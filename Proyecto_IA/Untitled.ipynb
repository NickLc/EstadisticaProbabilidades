{
 "cells": [
  {
   "cell_type": "markdown",
   "metadata": {},
   "source": [
    "# Cuaderno de experimentación"
   ]
  },
  {
   "cell_type": "markdown",
   "metadata": {},
   "source": [
    "Debemos incluir las librerías rgdal y RColorBrewer."
   ]
  },
  {
   "cell_type": "markdown",
   "metadata": {},
   "source": [
    "## Los problemas\n",
    "El primer problema al cual nos enfrentamos es cómo almacenamos los mapas. Encontramos que la forma de almacenar mapas es como un archivo .shp. Más información [aquí](https://es.wikipedia.org/wiki/Shapefile).\n",
    "``` r\n",
    "mapa<-readORG(file.choose())       #Buscamos archivo del mapa en formato SHP.\n",
    "adyacencia <- gIntersects(mapa, byid=TRUE) # Extraemos la matriz de adyacencia del mapa.\n",
    "\n",
    "color <- rep(0,length(mapa))\n",
    "\n",
    "correcto <- function(color, k) {\n",
    "  if (k==1) return (TRUE)\n",
    "  for(j in 1:(k-1)) {\n",
    "    if(adyacencia[j,k]==TRUE){  # comprueba que son adyacentes\n",
    "      if(color[k]==color[j]) # comprueba que tienen el mismo color\n",
    "        return(FALSE)\n",
    "    }\n",
    "  }\n",
    "  return(TRUE)\n",
    "  \n",
    "}\n",
    "\n",
    "\n",
    "k=1\n",
    "while(k<=length(mapa)){\n",
    "  if(color[k]==0) color[k]=1\n",
    "  if(correcto(color,k)) k=k+1\n",
    "  else{\n",
    "    color[k]=color[k]+1\n",
    "    if(color[k]>4){\n",
    "      repeat{\n",
    "        k=k-1\n",
    "        color[k+1]=0\n",
    "        if(color[k]!=4){\n",
    "          break\n",
    "        }\n",
    "      }\n",
    "    color[k]=color[k]+1\n",
    "    }\n",
    "    \n",
    "  }\n",
    "  \n",
    "}\n",
    "\n",
    "plot(mapa,col=color)                \n",
    "                    \n",
    "```\n",
    "\n",
    "\n"
   ]
  },
  {
   "cell_type": "code",
   "execution_count": 1,
   "metadata": {},
   "outputs": [
    {
     "ename": "ERROR",
     "evalue": "Error in readORG(file.choose()): no se pudo encontrar la función \"readORG\"\n",
     "output_type": "error",
     "traceback": [
      "Error in readORG(file.choose()): no se pudo encontrar la función \"readORG\"\nTraceback:\n"
     ]
    }
   ],
   "source": [
    "mapa<-readORG(file.choose())       #Buscamos archivo del mapa en formato SHP.\n",
    "adyacencia <- gIntersects(mapa, byid=TRUE) # Extraemos la matriz de adyacencia del mapa.\n",
    "\n",
    "color <- rep(0,length(mapa))\n",
    "\n",
    "correcto <- function(color, k) {\n",
    "  if (k==1) return (TRUE)\n",
    "  for(j in 1:(k-1)) {\n",
    "    if(adyacencia[j,k]==TRUE){  # comprueba que son adyacentes\n",
    "      if(color[k]==color[j]) # comprueba que tienen el mismo color\n",
    "        return(FALSE)\n",
    "    }\n",
    "  }\n",
    "  return(TRUE)\n",
    "  \n",
    "}\n",
    "\n",
    "\n",
    "k=1\n",
    "while(k<=length(mapa)){\n",
    "  if(color[k]==0) color[k]=1\n",
    "  if(correcto(color,k)) k=k+1\n",
    "  else{\n",
    "    color[k]=color[k]+1\n",
    "    if(color[k]>4){\n",
    "      repeat{\n",
    "        k=k-1\n",
    "        color[k+1]=0\n",
    "        if(color[k]!=4){\n",
    "          break\n",
    "        }\n",
    "      }\n",
    "    color[k]=color[k]+1\n",
    "    }\n",
    "    \n",
    "  }\n",
    "  \n",
    "}\n",
    "\n",
    "plot(mapa,col=color)"
   ]
  },
  {
   "cell_type": "code",
   "execution_count": null,
   "metadata": {},
   "outputs": [],
   "source": []
  },
  {
   "cell_type": "code",
   "execution_count": null,
   "metadata": {},
   "outputs": [],
   "source": []
  }
 ],
 "metadata": {
  "kernelspec": {
   "display_name": "R",
   "language": "R",
   "name": "ir"
  },
  "language_info": {
   "codemirror_mode": "r",
   "file_extension": ".r",
   "mimetype": "text/x-r-source",
   "name": "R",
   "pygments_lexer": "r",
   "version": "3.4.2"
  }
 },
 "nbformat": 4,
 "nbformat_minor": 2
}
